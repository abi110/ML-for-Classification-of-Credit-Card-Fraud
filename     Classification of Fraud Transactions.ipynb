{
 "cells": [
  {
   "cell_type": "code",
   "execution_count": 1,
   "id": "0a48ee05",
   "metadata": {},
   "outputs": [],
   "source": [
    "# importing packages\n",
    "import numpy as np\n",
    "import pandas as pd\n",
    "import matplotlib.pyplot as plt\n",
    "from sklearn.preprocessing import StandardScaler\n",
    "from sklearn.neural_network import MLPClassifier\n",
    "from sklearn.model_selection import train_test_split\n",
    "import sklearn.metrics as metrics\n",
    "from sklearn.metrics import mean_squared_error\n",
    "from sklearn.metrics import accuracy_score\n",
    "from sklearn.metrics import average_precision_score\n",
    "from sklearn.metrics import recall_score, roc_curve\n",
    "from sklearn.metrics import classification_report, confusion_matrix"
   ]
  },
  {
   "cell_type": "markdown",
   "id": "90ff0a2f",
   "metadata": {},
   "source": [
    "### Exploratory Data Analysis ###"
   ]
  },
  {
   "cell_type": "code",
   "execution_count": 2,
   "id": "4770bedf",
   "metadata": {},
   "outputs": [
    {
     "data": {
      "text/html": [
       "<div>\n",
       "<style scoped>\n",
       "    .dataframe tbody tr th:only-of-type {\n",
       "        vertical-align: middle;\n",
       "    }\n",
       "\n",
       "    .dataframe tbody tr th {\n",
       "        vertical-align: top;\n",
       "    }\n",
       "\n",
       "    .dataframe thead th {\n",
       "        text-align: right;\n",
       "    }\n",
       "</style>\n",
       "<table border=\"1\" class=\"dataframe\">\n",
       "  <thead>\n",
       "    <tr style=\"text-align: right;\">\n",
       "      <th></th>\n",
       "      <th>Time</th>\n",
       "      <th>V1</th>\n",
       "      <th>V2</th>\n",
       "      <th>V3</th>\n",
       "      <th>V4</th>\n",
       "      <th>V5</th>\n",
       "      <th>V6</th>\n",
       "      <th>V7</th>\n",
       "      <th>V8</th>\n",
       "      <th>V9</th>\n",
       "      <th>...</th>\n",
       "      <th>V21</th>\n",
       "      <th>V22</th>\n",
       "      <th>V23</th>\n",
       "      <th>V24</th>\n",
       "      <th>V25</th>\n",
       "      <th>V26</th>\n",
       "      <th>V27</th>\n",
       "      <th>V28</th>\n",
       "      <th>Amount</th>\n",
       "      <th>Class</th>\n",
       "    </tr>\n",
       "  </thead>\n",
       "  <tbody>\n",
       "    <tr>\n",
       "      <th>0</th>\n",
       "      <td>0.0</td>\n",
       "      <td>-1.359807</td>\n",
       "      <td>-0.072781</td>\n",
       "      <td>2.536347</td>\n",
       "      <td>1.378155</td>\n",
       "      <td>-0.338321</td>\n",
       "      <td>0.462388</td>\n",
       "      <td>0.239599</td>\n",
       "      <td>0.098698</td>\n",
       "      <td>0.363787</td>\n",
       "      <td>...</td>\n",
       "      <td>-0.018307</td>\n",
       "      <td>0.277838</td>\n",
       "      <td>-0.110474</td>\n",
       "      <td>0.066928</td>\n",
       "      <td>0.128539</td>\n",
       "      <td>-0.189115</td>\n",
       "      <td>0.133558</td>\n",
       "      <td>-0.021053</td>\n",
       "      <td>149.62</td>\n",
       "      <td>0</td>\n",
       "    </tr>\n",
       "    <tr>\n",
       "      <th>1</th>\n",
       "      <td>0.0</td>\n",
       "      <td>1.191857</td>\n",
       "      <td>0.266151</td>\n",
       "      <td>0.166480</td>\n",
       "      <td>0.448154</td>\n",
       "      <td>0.060018</td>\n",
       "      <td>-0.082361</td>\n",
       "      <td>-0.078803</td>\n",
       "      <td>0.085102</td>\n",
       "      <td>-0.255425</td>\n",
       "      <td>...</td>\n",
       "      <td>-0.225775</td>\n",
       "      <td>-0.638672</td>\n",
       "      <td>0.101288</td>\n",
       "      <td>-0.339846</td>\n",
       "      <td>0.167170</td>\n",
       "      <td>0.125895</td>\n",
       "      <td>-0.008983</td>\n",
       "      <td>0.014724</td>\n",
       "      <td>2.69</td>\n",
       "      <td>0</td>\n",
       "    </tr>\n",
       "    <tr>\n",
       "      <th>2</th>\n",
       "      <td>1.0</td>\n",
       "      <td>-1.358354</td>\n",
       "      <td>-1.340163</td>\n",
       "      <td>1.773209</td>\n",
       "      <td>0.379780</td>\n",
       "      <td>-0.503198</td>\n",
       "      <td>1.800499</td>\n",
       "      <td>0.791461</td>\n",
       "      <td>0.247676</td>\n",
       "      <td>-1.514654</td>\n",
       "      <td>...</td>\n",
       "      <td>0.247998</td>\n",
       "      <td>0.771679</td>\n",
       "      <td>0.909412</td>\n",
       "      <td>-0.689281</td>\n",
       "      <td>-0.327642</td>\n",
       "      <td>-0.139097</td>\n",
       "      <td>-0.055353</td>\n",
       "      <td>-0.059752</td>\n",
       "      <td>378.66</td>\n",
       "      <td>0</td>\n",
       "    </tr>\n",
       "    <tr>\n",
       "      <th>3</th>\n",
       "      <td>1.0</td>\n",
       "      <td>-0.966272</td>\n",
       "      <td>-0.185226</td>\n",
       "      <td>1.792993</td>\n",
       "      <td>-0.863291</td>\n",
       "      <td>-0.010309</td>\n",
       "      <td>1.247203</td>\n",
       "      <td>0.237609</td>\n",
       "      <td>0.377436</td>\n",
       "      <td>-1.387024</td>\n",
       "      <td>...</td>\n",
       "      <td>-0.108300</td>\n",
       "      <td>0.005274</td>\n",
       "      <td>-0.190321</td>\n",
       "      <td>-1.175575</td>\n",
       "      <td>0.647376</td>\n",
       "      <td>-0.221929</td>\n",
       "      <td>0.062723</td>\n",
       "      <td>0.061458</td>\n",
       "      <td>123.50</td>\n",
       "      <td>0</td>\n",
       "    </tr>\n",
       "    <tr>\n",
       "      <th>4</th>\n",
       "      <td>2.0</td>\n",
       "      <td>-1.158233</td>\n",
       "      <td>0.877737</td>\n",
       "      <td>1.548718</td>\n",
       "      <td>0.403034</td>\n",
       "      <td>-0.407193</td>\n",
       "      <td>0.095921</td>\n",
       "      <td>0.592941</td>\n",
       "      <td>-0.270533</td>\n",
       "      <td>0.817739</td>\n",
       "      <td>...</td>\n",
       "      <td>-0.009431</td>\n",
       "      <td>0.798278</td>\n",
       "      <td>-0.137458</td>\n",
       "      <td>0.141267</td>\n",
       "      <td>-0.206010</td>\n",
       "      <td>0.502292</td>\n",
       "      <td>0.219422</td>\n",
       "      <td>0.215153</td>\n",
       "      <td>69.99</td>\n",
       "      <td>0</td>\n",
       "    </tr>\n",
       "  </tbody>\n",
       "</table>\n",
       "<p>5 rows × 31 columns</p>\n",
       "</div>"
      ],
      "text/plain": [
       "   Time        V1        V2        V3        V4        V5        V6        V7  \\\n",
       "0   0.0 -1.359807 -0.072781  2.536347  1.378155 -0.338321  0.462388  0.239599   \n",
       "1   0.0  1.191857  0.266151  0.166480  0.448154  0.060018 -0.082361 -0.078803   \n",
       "2   1.0 -1.358354 -1.340163  1.773209  0.379780 -0.503198  1.800499  0.791461   \n",
       "3   1.0 -0.966272 -0.185226  1.792993 -0.863291 -0.010309  1.247203  0.237609   \n",
       "4   2.0 -1.158233  0.877737  1.548718  0.403034 -0.407193  0.095921  0.592941   \n",
       "\n",
       "         V8        V9  ...       V21       V22       V23       V24       V25  \\\n",
       "0  0.098698  0.363787  ... -0.018307  0.277838 -0.110474  0.066928  0.128539   \n",
       "1  0.085102 -0.255425  ... -0.225775 -0.638672  0.101288 -0.339846  0.167170   \n",
       "2  0.247676 -1.514654  ...  0.247998  0.771679  0.909412 -0.689281 -0.327642   \n",
       "3  0.377436 -1.387024  ... -0.108300  0.005274 -0.190321 -1.175575  0.647376   \n",
       "4 -0.270533  0.817739  ... -0.009431  0.798278 -0.137458  0.141267 -0.206010   \n",
       "\n",
       "        V26       V27       V28  Amount  Class  \n",
       "0 -0.189115  0.133558 -0.021053  149.62      0  \n",
       "1  0.125895 -0.008983  0.014724    2.69      0  \n",
       "2 -0.139097 -0.055353 -0.059752  378.66      0  \n",
       "3 -0.221929  0.062723  0.061458  123.50      0  \n",
       "4  0.502292  0.219422  0.215153   69.99      0  \n",
       "\n",
       "[5 rows x 31 columns]"
      ]
     },
     "execution_count": 2,
     "metadata": {},
     "output_type": "execute_result"
    }
   ],
   "source": [
    "# reading csv\n",
    "df = pd.read_csv(\"C:/Users/abbie/Documents/Comp Sci tings/Uni/Aplications of AI/Assignment 2/fraudornormal/creditcard.csv\")\n",
    "df.head()"
   ]
  },
  {
   "cell_type": "code",
   "execution_count": 3,
   "id": "4dd72e71",
   "metadata": {},
   "outputs": [
    {
     "data": {
      "text/plain": [
       "Text(0, 0.5, 'Frequency')"
      ]
     },
     "execution_count": 3,
     "metadata": {},
     "output_type": "execute_result"
    },
    {
     "data": {
      "image/png": "[encoded data removed]",
      "text/plain": [
       "<Figure size 432x288 with 1 Axes>"
      ]
     },
     "metadata": {
      "needs_background": "light"
     },
     "output_type": "display_data"
    }
   ],
   "source": [
    "# counting fraudulent and non-fraudlent operations\n",
    "count_classes = pd.value_counts(df['Class'], sort = False)\n",
    "# printing graph\n",
    "count_classes.plot (kind='bar')\n",
    "plt.title (\"Fraudulent and Non-Fraudulent Transactions\")\n",
    "plt.xlabel (\"Fraudulent\")\n",
    "plt.ylabel (\"Frequency\")"
   ]
  },
  {
   "cell_type": "code",
   "execution_count": 4,
   "id": "1c174fa6",
   "metadata": {
    "scrolled": true
   },
   "outputs": [
    {
     "data": {
      "text/plain": [
       "<AxesSubplot:ylabel='Frequency'>"
      ]
     },
     "execution_count": 4,
     "metadata": {},
     "output_type": "execute_result"
    },
    {
     "data": {
      "image/png": "[encoded data removed]",
      "text/plain": [
       "<Figure size 432x288 with 1 Axes>"
      ]
     },
     "metadata": {
      "needs_background": "light"
     },
     "output_type": "display_data"
    }
   ],
   "source": [
    "# applying formula to the columns of the df\n",
    "df['logAmount'] = np.log(df['Amount']+1)\n",
    "# printing histogram\n",
    "df['logAmount'].sort_values().plot.hist()"
   ]
  },
  {
   "cell_type": "markdown",
   "id": "b02054d1",
   "metadata": {},
   "source": [
    "### Testing the data ###"
   ]
  },
  {
   "cell_type": "code",
   "execution_count": 5,
   "id": "3c4f8530",
   "metadata": {},
   "outputs": [],
   "source": [
    "# Scaleing the variable amount\n",
    "df['normAmount'] = StandardScaler().fit_transform(df['Amount'].values.reshape (-1,1))\n",
    "df = df.drop (['Time', 'Amount','logAmount'], axis = 1);"
   ]
  },
  {
   "cell_type": "code",
   "execution_count": 6,
   "id": "b002cd55",
   "metadata": {},
   "outputs": [],
   "source": [
    "# Separating the data into two arrays with x and y variables respectively\n",
    "X = df.iloc[:, df.columns != 'Class']\n",
    "y = df.iloc[:, df.columns == 'Class']\n",
    "len(y[y.Class ==1]);"
   ]
  },
  {
   "cell_type": "code",
   "execution_count": 7,
   "id": "23389657",
   "metadata": {},
   "outputs": [],
   "source": [
    "#sorting with train test split\n",
    "X_train, X_test, y_train, y_test = train_test_split (X,y, test_size = 0.3, random_state = 0)"
   ]
  },
  {
   "cell_type": "code",
   "execution_count": 8,
   "id": "0fb8be0c",
   "metadata": {},
   "outputs": [
    {
     "name": "stderr",
     "output_type": "stream",
     "text": [
      "C:\\Users\\abbie\\anaconda3\\lib\\site-packages\\sklearn\\neural_network\\_multilayer_perceptron.py:1109: DataConversionWarning: A column-vector y was passed when a 1d array was expected. Please change the shape of y to (n_samples, ), for example using ravel().\n",
      "  y = column_or_1d(y, warn=True)\n",
      "C:\\Users\\abbie\\anaconda3\\lib\\site-packages\\sklearn\\base.py:450: UserWarning: X does not have valid feature names, but MLPClassifier was fitted with feature names\n",
      "  warnings.warn(\n"
     ]
    },
    {
     "data": {
      "text/plain": [
       "0.5238095238095238"
      ]
     },
     "execution_count": 8,
     "metadata": {},
     "output_type": "execute_result"
    }
   ],
   "source": [
    "#Using Multi-layer Perceptron Classifier Neural Network\n",
    "MLPC = MLPClassifier(hidden_layer_sizes=(400,), max_iter=10000)\n",
    "scaler = StandardScaler()\n",
    "# fit to training data\n",
    "scaler.fit(X_train)\n",
    "scaler.fit(y_train)\n",
    "scaler.fit(X_test)\n",
    "MLPC.fit(X_train, y_train)\n",
    "X_test = scaler.transform(X_test)\n",
    "y_pred = MLPC.predict(X_test)\n",
    "# Recall values\n",
    "recall_acc = recall_score (y_test,y_pred)\n",
    "recall_acc "
   ]
  },
  {
   "cell_type": "markdown",
   "id": "de387a96",
   "metadata": {},
   "source": [
    "### Unbalanced ###\n",
    "The accuracy on the above classification is so low because the dataset is unbalanced. Below is a second measure of accuracy using auPRC since a confusion matrix cannot be used due to the unbalanced classification."
   ]
  },
  {
   "cell_type": "code",
   "execution_count": 9,
   "id": "660ebad3",
   "metadata": {},
   "outputs": [
    {
     "name": "stdout",
     "output_type": "stream",
     "text": [
      "Precision: [0.00172045 0.78571429 1.        ]\n",
      "Recall: [1.         0.52380952 0.        ]\n",
      "Thresholds: [0 1]\n",
      "Naive auPRC: 0.655171534573592\n",
      "Average Precision Score auPRC: 0.4123838854737148\n"
     ]
    }
   ],
   "source": [
    "def pr(y_test, y_pred):\n",
    "    precision, recall, thresholds = metrics.precision_recall_curve(y_test, y_pred)\n",
    "    auc = metrics.auc(recall, precision)\n",
    "    \n",
    "    print('Precision: %s' % precision)\n",
    "    print('Recall: %s' % recall)\n",
    "    print('Thresholds: %s' % thresholds)\n",
    "    print('Naive auPRC: %s' % auc)\n",
    "    print('Average Precision Score auPRC: %s' % metrics.average_precision_score(y_test, y_pred))\n",
    "    \n",
    "pr(y_test, y_pred)"
   ]
  },
  {
   "cell_type": "code",
   "execution_count": 10,
   "id": "4be030d8",
   "metadata": {},
   "outputs": [
    {
     "name": "stdout",
     "output_type": "stream",
     "text": [
      "              precision    recall  f1-score   support\n",
      "\n",
      "           0       1.00      1.00      1.00     85296\n",
      "           1       0.79      0.52      0.63       147\n",
      "\n",
      "    accuracy                           1.00     85443\n",
      "   macro avg       0.89      0.76      0.81     85443\n",
      "weighted avg       1.00      1.00      1.00     85443\n",
      "\n"
     ]
    }
   ],
   "source": [
    "print(classification_report(y_test, y_pred))"
   ]
  },
  {
   "cell_type": "markdown",
   "id": "19afef8d",
   "metadata": {},
   "source": [
    "### Undersampling ###\n",
    "I will be using undersampling to control for the unbalanced data. Cases of the majority type (non-fraudulent transactions) will be removed to create a sample of data where the number of non-fraudulent indicies is equal to the number of fraudulent indicies."
   ]
  },
  {
   "cell_type": "code",
   "execution_count": 11,
   "id": "28772f72",
   "metadata": {},
   "outputs": [],
   "source": [
    "# Count fraud cases\n",
    "number_records_fraud = len (df[df.Class==1])\n",
    "# Indicies extracted where the cases of fraud and non-fraud are\n",
    "fraud_indices = np.array (df[df.Class==1].index)\n",
    "normal_indices = np.array (df[df.Class==0].index)"
   ]
  },
  {
   "cell_type": "code",
   "execution_count": 12,
   "id": "1634204e",
   "metadata": {},
   "outputs": [],
   "source": [
    "# Randomly generating a number of non-fraud indicies that is equal to the number of fraud indicies\n",
    "random_normal_indices = np.random.choice (normal_indices, number_records_fraud, replace = False )\n",
    "# arrays combined\n",
    "undersample_indices = np.concatenate ([fraud_indices, random_normal_indices])"
   ]
  },
  {
   "cell_type": "code",
   "execution_count": 13,
   "id": "c50005f3",
   "metadata": {},
   "outputs": [],
   "source": [
    "undersample_df = df.iloc[undersample_indices,:]\n",
    "# separate x and y again\n",
    "X_undersample = undersample_df.iloc [:, undersample_df.columns != 'Class'];\n",
    "y_undersample = undersample_df.iloc [:, undersample_df.columns == 'Class'];"
   ]
  },
  {
   "cell_type": "code",
   "execution_count": 14,
   "id": "982392a7",
   "metadata": {},
   "outputs": [],
   "source": [
    "#sorting train test split\n",
    "X_train, X_test, y_train, y_test = train_test_split (X,y, test_size = 0.3, random_state = 0)\n",
    "X_train_under, X_test_under, y_train_under, y_test_under = train_test_split (X_undersample,y_undersample, test_size = 0.3, random_state = 0)"
   ]
  },
  {
   "cell_type": "code",
   "execution_count": 15,
   "id": "9fcb0300",
   "metadata": {
    "scrolled": true
   },
   "outputs": [
    {
     "name": "stderr",
     "output_type": "stream",
     "text": [
      "C:\\Users\\abbie\\anaconda3\\lib\\site-packages\\sklearn\\neural_network\\_multilayer_perceptron.py:1109: DataConversionWarning: A column-vector y was passed when a 1d array was expected. Please change the shape of y to (n_samples, ), for example using ravel().\n",
      "  y = column_or_1d(y, warn=True)\n"
     ]
    },
    {
     "data": {
      "text/plain": [
       "0.9251700680272109"
      ]
     },
     "execution_count": 15,
     "metadata": {},
     "output_type": "execute_result"
    }
   ],
   "source": [
    "#Using Multi-layer Perceptron Classifier Neural Network\n",
    "MLPC = MLPClassifier(hidden_layer_sizes=(400,), max_iter=10000)\n",
    "scaler.fit(X_train_under)\n",
    "scaler.fit(y_train_under)\n",
    "scaler.fit(X_test_under)\n",
    "MLPC.fit(X_train_under, y_train_under)\n",
    "X_train = scaler.transform(X_train_under)  \n",
    "y_pred = MLPC.predict(X_test_under)\n",
    "# Recall values\n",
    "recall_acc = recall_score (y_test_under,y_pred)\n",
    "recall_acc"
   ]
  },
  {
   "cell_type": "code",
   "execution_count": 16,
   "id": "2e229fbd",
   "metadata": {},
   "outputs": [
    {
     "name": "stdout",
     "output_type": "stream",
     "text": [
      "[[144   5]\n",
      " [ 11 136]]\n",
      "              precision    recall  f1-score   support\n",
      "\n",
      "           0       0.93      0.97      0.95       149\n",
      "           1       0.96      0.93      0.94       147\n",
      "\n",
      "    accuracy                           0.95       296\n",
      "   macro avg       0.95      0.95      0.95       296\n",
      "weighted avg       0.95      0.95      0.95       296\n",
      "\n"
     ]
    }
   ],
   "source": [
    "print(confusion_matrix(y_test_under, y_pred))\n",
    "print(classification_report(y_test_under, y_pred))"
   ]
  },
  {
   "cell_type": "code",
   "execution_count": 17,
   "id": "12aa7cfc",
   "metadata": {},
   "outputs": [
    {
     "name": "stdout",
     "output_type": "stream",
     "text": [
      "Precision: [0.49662162 0.96453901 1.        ]\n",
      "Recall: [1.         0.92517007 0.        ]\n",
      "Thresholds: [0 1]\n",
      "Naive auPRC: 0.9634356186407859\n",
      "Average Precision Score auPRC: 0.92952478096855\n"
     ]
    }
   ],
   "source": [
    "def pr(y_test_under, y_pred):\n",
    "    precision, recall, thresholds = metrics.precision_recall_curve(y_test_under, y_pred)\n",
    "    auc = metrics.auc(recall, precision)\n",
    "    \n",
    "    print('Precision: %s' % precision)\n",
    "    print('Recall: %s' % recall)\n",
    "    print('Thresholds: %s' % thresholds)\n",
    "    print('Naive auPRC: %s' % auc)\n",
    "    print('Average Precision Score auPRC: %s' % metrics.average_precision_score(y_test_under, y_pred))\n",
    "    \n",
    "pr(y_test_under, y_pred)"
   ]
  },
  {
   "cell_type": "code",
   "execution_count": 18,
   "id": "be6fe4a6",
   "metadata": {},
   "outputs": [
    {
     "name": "stdout",
     "output_type": "stream",
     "text": [
      "Mean Squared Error: 0.05405405405405406\n",
      "Accuracy: 0.9459459459459459\n",
      "Precision: 0.92952478096855\n",
      "Recall: 0.9251700680272109\n",
      "Receiver Operating Curve: (array([0.        , 0.03355705, 1.        ]), array([0.        , 0.92517007, 1.        ]), array([2, 1, 0], dtype=int64))\n"
     ]
    }
   ],
   "source": [
    "print(f\"Mean Squared Error: {mean_squared_error(y_test_under, y_pred, sample_weight=None, multioutput='uniform_average', squared=True)}\")\n",
    "print(f\"Accuracy: {accuracy_score(y_test_under, y_pred, normalize=True, sample_weight=None)}\")\n",
    "print(f\"Precision: {average_precision_score(y_test_under, y_pred, average='macro', pos_label=1, sample_weight=None)}\")\n",
    "print(f\"Recall: {recall_score(y_test_under, y_pred, labels=None, pos_label=1, average='binary', sample_weight=None, zero_division='warn')}\")\n",
    "print(f\"Receiver Operating Curve: {roc_curve(y_test_under, y_pred, pos_label=None, sample_weight=None, drop_intermediate=True)}\")"
   ]
  }
 ],
 "metadata": {
  "kernelspec": {
   "display_name": "Python 3",
   "language": "python",
   "name": "python3"
  },
  "language_info": {
   "codemirror_mode": {
    "name": "ipython",
    "version": 3
   },
   "file_extension": ".py",
   "mimetype": "text/x-python",
   "name": "python",
   "nbconvert_exporter": "python",
   "pygments_lexer": "ipython3",
   "version": "3.8.8"
  }
 },
 "nbformat": 4,
 "nbformat_minor": 5
}
